{
 "cells": [
  {
   "cell_type": "code",
   "execution_count": 6,
   "id": "3306e9e5",
   "metadata": {},
   "outputs": [
    {
     "ename": "ModuleNotFoundError",
     "evalue": "No module named 'Lib'",
     "output_type": "error",
     "traceback": [
      "\u001b[0;31m---------------------------------------------------------------------------\u001b[0m",
      "\u001b[0;31mModuleNotFoundError\u001b[0m                       Traceback (most recent call last)",
      "\u001b[0;32m/var/folders/0_/c98v9s0s2h38hgv5ngs98b380000gn/T/ipykernel_76449/3688580490.py\u001b[0m in \u001b[0;36m<module>\u001b[0;34m\u001b[0m\n\u001b[0;32m----> 1\u001b[0;31m \u001b[0;32mimport\u001b[0m \u001b[0mLib\u001b[0m\u001b[0;34m\u001b[0m\u001b[0;34m\u001b[0m\u001b[0m\n\u001b[0m\u001b[1;32m      2\u001b[0m \u001b[0;32mfor\u001b[0m \u001b[0mi\u001b[0m \u001b[0;32min\u001b[0m \u001b[0mrange\u001b[0m\u001b[0;34m(\u001b[0m\u001b[0;36m0\u001b[0m\u001b[0;34m,\u001b[0m\u001b[0;36m10000\u001b[0m\u001b[0;34m)\u001b[0m\u001b[0;34m:\u001b[0m\u001b[0;34m\u001b[0m\u001b[0;34m\u001b[0m\u001b[0m\n\u001b[1;32m      3\u001b[0m     \u001b[0mchoose\u001b[0m \u001b[0;34m=\u001b[0m \u001b[0mint\u001b[0m\u001b[0;34m(\u001b[0m\u001b[0minput\u001b[0m\u001b[0;34m(\u001b[0m\u001b[0;34m'사용할 기능을 숫자로 입력하세요.\\n 1.도서추가\\n 2.도서검색\\n 3.도서정보수정\\n 4.도서삭제\\n 5.현재 총 도서목록\\n 6.저장\\n 7.프로그램 나가기\\n '\u001b[0m\u001b[0;34m)\u001b[0m\u001b[0;34m)\u001b[0m\u001b[0;34m\u001b[0m\u001b[0;34m\u001b[0m\u001b[0m\n\u001b[1;32m      4\u001b[0m \u001b[0;34m\u001b[0m\u001b[0m\n\u001b[1;32m      5\u001b[0m     \u001b[0;32mif\u001b[0m \u001b[0mchoose\u001b[0m \u001b[0;34m==\u001b[0m \u001b[0;36m1\u001b[0m\u001b[0;34m:\u001b[0m\u001b[0;34m\u001b[0m\u001b[0;34m\u001b[0m\u001b[0m\n",
      "\u001b[0;31mModuleNotFoundError\u001b[0m: No module named 'Lib'"
     ]
    }
   ],
   "source": [
    "import Lib\n",
    "for i in range(0,10000):\n",
    "    choose = int(input('사용할 기능을 숫자로 입력하세요.\\n 1.도서추가\\n 2.도서검색\\n 3.도서정보수정\\n 4.도서삭제\\n 5.현재 총 도서목록\\n 6.저장\\n 7.프로그램 나가기\\n '))\n",
    "\n",
    "    if choose == 1:\n",
    "        add_book()\n",
    "    elif choose==2:\n",
    "        find_book()\n",
    "    elif choose==3:\n",
    "        modify_book()\n",
    "    elif choose==4:\n",
    "        delete_book()\n",
    "    elif choose==5:\n",
    "        now_book()\n",
    "    elif choose==6:\n",
    "        save_book()\n",
    "    elif choose==7:\n",
    "        break"
   ]
  }
 ],
 "metadata": {
  "kernelspec": {
   "display_name": "Python 3 (ipykernel)",
   "language": "python",
   "name": "python3"
  },
  "language_info": {
   "codemirror_mode": {
    "name": "ipython",
    "version": 3
   },
   "file_extension": ".py",
   "mimetype": "text/x-python",
   "name": "python",
   "nbconvert_exporter": "python",
   "pygments_lexer": "ipython3",
   "version": "3.9.7"
  }
 },
 "nbformat": 4,
 "nbformat_minor": 5
}
