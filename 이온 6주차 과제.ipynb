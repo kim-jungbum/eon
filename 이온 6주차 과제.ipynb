{
 "cells": [
  {
   "cell_type": "code",
   "execution_count": 37,
   "id": "81e374bc",
   "metadata": {},
   "outputs": [
    {
     "name": "stdout",
     "output_type": "stream",
     "text": [
      "4\n",
      "(2, 2)(1, 1, 2)(1, 2, 1)(2, 1, 1)(1, 1, 1, 1)\n",
      "5\n"
     ]
    }
   ],
   "source": [
    "import itertools\n",
    "n=int(input())\n",
    "lin=list()\n",
    "iter=0\n",
    "\n",
    "for y in range(1,n+1):\n",
    "    result = list(itertools.product(([1,2]), repeat=y))\n",
    "    for i in range(0,len(result)):\n",
    "        if sum(result[i])==n:\n",
    "            print(result[i],end='')\n",
    "            iter+=1\n",
    "print()\n",
    "print(iter)"
   ]
  }
 ],
 "metadata": {
  "kernelspec": {
   "display_name": "Python 3 (ipykernel)",
   "language": "python",
   "name": "python3"
  },
  "language_info": {
   "codemirror_mode": {
    "name": "ipython",
    "version": 3
   },
   "file_extension": ".py",
   "mimetype": "text/x-python",
   "name": "python",
   "nbconvert_exporter": "python",
   "pygments_lexer": "ipython3",
   "version": "3.9.7"
  }
 },
 "nbformat": 4,
 "nbformat_minor": 5
}
