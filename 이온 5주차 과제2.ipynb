{
 "cells": [
  {
   "cell_type": "code",
   "execution_count": 13,
   "id": "2a6ada8e",
   "metadata": {},
   "outputs": [
    {
     "name": "stdout",
     "output_type": "stream",
     "text": [
      "1,5,2,6,3,7,4\n",
      "2,5,3\n",
      "4,4,1\n",
      "1,7,3\n",
      "|['1', '5', '2', '6', '3', '7', '4']|[[2, 5, 3], [4, 4, 1], [1, 7, 3]]|[5, 6, 3]|\n"
     ]
    }
   ],
   "source": [
    "array = list(input().split(','))\n",
    "command = [list(map(int, input().split(','))) for _ in range(3)]\n",
    "result=list(range(0,3))\n",
    "for i in range(0,3):\n",
    "    cut=array[command[i][0]-1:command[i][1]]    \n",
    "    cut= list(map(int, cut))\n",
    "    cut.sort()\n",
    "    result[i]=cut[command[i][2]-1]\n",
    "    \n",
    "print('|{0}|{1}|{2}|'.format(array,command,result))"
   ]
  }
 ],
 "metadata": {
  "kernelspec": {
   "display_name": "Python 3 (ipykernel)",
   "language": "python",
   "name": "python3"
  },
  "language_info": {
   "codemirror_mode": {
    "name": "ipython",
    "version": 3
   },
   "file_extension": ".py",
   "mimetype": "text/x-python",
   "name": "python",
   "nbconvert_exporter": "python",
   "pygments_lexer": "ipython3",
   "version": "3.9.7"
  }
 },
 "nbformat": 4,
 "nbformat_minor": 5
}
