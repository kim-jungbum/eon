{
 "cells": [
  {
   "cell_type": "code",
   "execution_count": 23,
   "id": "4f3e6032",
   "metadata": {},
   "outputs": [
    {
     "name": "stdout",
     "output_type": "stream",
     "text": [
      "2,6,7,3,5,1\n",
      "2,4,1\n",
      "3\n"
     ]
    }
   ],
   "source": [
    "array = list(input().split(','))\n",
    "a, b, c = map(int,input(). split(','))\n",
    "cut=array[a-1:b]    \n",
    "cut= list(map(int, cut))\n",
    "cut.sort()\n",
    "print(cut[c-1])"
   ]
  }
 ],
 "metadata": {
  "kernelspec": {
   "display_name": "Python 3 (ipykernel)",
   "language": "python",
   "name": "python3"
  },
  "language_info": {
   "codemirror_mode": {
    "name": "ipython",
    "version": 3
   },
   "file_extension": ".py",
   "mimetype": "text/x-python",
   "name": "python",
   "nbconvert_exporter": "python",
   "pygments_lexer": "ipython3",
   "version": "3.9.7"
  }
 },
 "nbformat": 4,
 "nbformat_minor": 5
}
