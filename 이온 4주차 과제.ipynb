{
 "cells": [
  {
   "cell_type": "code",
   "execution_count": 28,
   "id": "2494b212",
   "metadata": {},
   "outputs": [
    {
     "name": "stdout",
     "output_type": "stream",
     "text": [
      "6 2 78 1\n",
      "[1,2,6,78]"
     ]
    }
   ],
   "source": [
    "from array import array \n",
    "\n",
    "numdata = array('i', map(int,input().split()))\n",
    "res = len(numdata)\n",
    "iter = 0\n",
    "\n",
    "while True:\n",
    "    \n",
    "    for i in range(0,res-1):\n",
    "        \n",
    "        if numdata[i]>numdata[i+1]:\n",
    "            temp = numdata[i]\n",
    "            numdata[i] = numdata[i+1]\n",
    "            numdata[i+1] = temp\n",
    "\n",
    "    iter=iter+1\n",
    "    \n",
    "    if iter == res-1:\n",
    "        break\n",
    "        \n",
    "print('[',end='')       # 이 방법을 사용하지 않고 print('numdata')사용 시 array('i',[배열])이 출력되어 문제해결을 시도했으나, 방법을 찾지못함\n",
    "for x in range(0,res):\n",
    "    \n",
    "    if x==(res-1):\n",
    "        print(numdata[x],end='')\n",
    "    else:\n",
    "        print(numdata[x], end=',')\n",
    "        \n",
    "print(']',end='')"
   ]
  }
 ],
 "metadata": {
  "kernelspec": {
   "display_name": "Python 3 (ipykernel)",
   "language": "python",
   "name": "python3"
  },
  "language_info": {
   "codemirror_mode": {
    "name": "ipython",
    "version": 3
   },
   "file_extension": ".py",
   "mimetype": "text/x-python",
   "name": "python",
   "nbconvert_exporter": "python",
   "pygments_lexer": "ipython3",
   "version": "3.9.7"
  }
 },
 "nbformat": 4,
 "nbformat_minor": 5
}
